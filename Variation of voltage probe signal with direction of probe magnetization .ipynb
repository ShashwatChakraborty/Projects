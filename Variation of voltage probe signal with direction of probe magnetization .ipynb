{
 "cells": [
  {
   "cell_type": "code",
   "execution_count": 2,
   "id": "afbded7d",
   "metadata": {},
   "outputs": [],
   "source": [
    "import numpy as np\n",
    "import matplotlib.pyplot as plt"
   ]
  },
  {
   "cell_type": "markdown",
   "id": "7e6382d8",
   "metadata": {},
   "source": [
    "# Voltage Probe Signal as magnetization of the probe is rotated"
   ]
  },
  {
   "cell_type": "markdown",
   "id": "35c87274",
   "metadata": {},
   "source": [
    "<img src=\"Four_probe_spin_voltage.png\">"
   ]
  },
  {
   "cell_type": "code",
   "execution_count": 154,
   "id": "523a8c68",
   "metadata": {},
   "outputs": [],
   "source": [
    "#constants \n",
    "h_bar = 1.06e-34\n",
    "q = 1.6e-19\n",
    "m_e = 9.1e-31\n",
    "#Let's take m_c to be 0.1*m_e"
   ]
  },
  {
   "cell_type": "code",
   "execution_count": 198,
   "id": "f76bafbf",
   "metadata": {},
   "outputs": [],
   "source": [
    "#parameters \n",
    "N_prob = 50\n",
    "N_tot = 2*N_prob\n",
    "m_c = 0.25*m_e\n",
    "a = 2.5e-09\n",
    "t_0 = (h_bar**2)/(2*m_c*q*(a**2)) #(in eV)"
   ]
  },
  {
   "cell_type": "code",
   "execution_count": 199,
   "id": "f4c92404",
   "metadata": {},
   "outputs": [],
   "source": [
    "#Set E to t_0\n",
    "E = t_0 \n",
    "z_plus = complex(0,1)*1e-12\n",
    "ka = np.arccos(1-(E+z_plus)/(2*t_0))"
   ]
  },
  {
   "cell_type": "code",
   "execution_count": 200,
   "id": "98c248df",
   "metadata": {},
   "outputs": [],
   "source": [
    "#matrices\n",
    "H = np.array([[0 for i in range(N_tot)] for j in range(N_tot)], dtype = np.complex_)\n",
    "H_0 = np.array([[0 for i in range(N_prob)] for j in range(N_prob)], dtype = np.complex_)\n",
    "H_1 = np.array([[0 for i in range(N_prob)] for j in range(N_prob)], dtype = np.complex_)\n",
    "H_2 = np.array([[0 for i in range(N_prob)] for j in range(N_prob)], dtype = np.complex_)\n",
    "Sigma_1 = np.array([[0 for i in range(N_tot)] for j in range(N_tot)], dtype = np.complex_)\n",
    "Sigma_1_dag = np.array([[0 for i in range(N_tot)] for j in range(N_tot)], dtype = np.complex_)\n",
    "Sigma_2 = np.array([[0 for i in range(N_tot)] for j in range(N_tot)], dtype = np.complex_)\n",
    "Sigma_2_dag =np.array([[0 for i in range(N_tot)] for j in range(N_tot)], dtype = np.complex_)\n",
    "Sigma_L = np.array([[0 for i in range(N_tot)] for j in range(N_tot)], dtype = np.complex_)\n",
    "Sigma_L_dag = np.array([[0 for i in range(N_tot)] for j in range(N_tot)], dtype = np.complex_)\n",
    "Sigma_R = np.array([[0 for i in range(N_tot)] for j in range(N_tot)], dtype = np.complex_)\n",
    "Sigma_R_dag = np.array([[0 for i in range(N_tot)] for j in range(N_tot)], dtype = np.complex_)\n",
    "Gamma_1 = np.array([[0 for i in range(N_tot)] for j in range(N_tot)], dtype = np.complex_)\n",
    "Gamma_2 = np.array([[0 for i in range(N_tot)] for j in range(N_tot)], dtype = np.complex_)\n",
    "Gamma_L = np.array([[0 for i in range(N_tot)] for j in range(N_tot)], dtype = np.complex_)\n",
    "Gamma_R = np.array([[0 for i in range(N_tot)] for j in range(N_tot)], dtype = np.complex_)\n",
    "G_inv = np.array([[0 for i in range(N_tot)] for j in range(N_tot)], dtype = np.complex_)\n",
    "G = np.array([[0 for i in range(N_tot)] for j in range(N_tot)], dtype = np.complex_)\n",
    "G_dag = np.array([[0 for i in range(N_tot)] for j in range(N_tot)], dtype = np.complex_)\n",
    "EI = np.array([[0 for i in range(N_tot)] for j in range(N_tot)], dtype = np.complex_)"
   ]
  },
  {
   "cell_type": "code",
   "execution_count": 201,
   "id": "f499c2c2",
   "metadata": {},
   "outputs": [],
   "source": [
    "#non-magnetic contacts\n",
    "Sigma_L[0][0] = -t_0*np.exp(complex(0,1)*ka)\n",
    "Sigma_L[1][1] = -t_0*np.exp(complex(0,1)*ka)\n",
    "Sigma_L_dag[0][0] = -t_0*np.exp(complex(0,-1)*ka)\n",
    "Sigma_L_dag[1][1] = -t_0*np.exp(complex(0,-1)*ka)\n",
    "Sigma_R[N_tot-1][N_tot-1] = -t_0*np.exp(complex(0,1)*ka) \n",
    "Sigma_R[N_tot-2][N_tot-2] = -t_0*np.exp(complex(0,1)*ka) \n",
    "Sigma_R_dag[N_tot-1][N_tot-1] = -t_0*np.exp(complex(0,-1)*ka) \n",
    "Sigma_R_dag[N_tot-2][N_tot-2] = -t_0*np.exp(complex(0,-1)*ka) \n",
    "\n",
    "L_1 = np.array([[0 for i in range(N_prob)] for j in range(N_prob)], dtype = np.complex_)\n",
    "L_1[8][8] = 0.1\n",
    "L_2 = np.array([[0 for i in range(N_prob)] for j in range(N_prob)], dtype = np.complex_)\n",
    "L_2[18][18] = 0.1"
   ]
  },
  {
   "cell_type": "code",
   "execution_count": 202,
   "id": "9dc5422d",
   "metadata": {},
   "outputs": [],
   "source": [
    "for l in range(N_tot):\n",
    "    EI[l][l] = E+z_plus"
   ]
  },
  {
   "cell_type": "code",
   "execution_count": 203,
   "id": "5ff6f6b4",
   "metadata": {},
   "outputs": [],
   "source": [
    "Gamma_L = complex(0,1)*(Sigma_L - Sigma_L.conjugate().transpose())\n",
    "Gamma_R = complex(0,1)*(Sigma_R - Sigma_R.conjugate().transpose())"
   ]
  },
  {
   "cell_type": "markdown",
   "id": "488144b6",
   "metadata": {},
   "source": [
    "# Buttiker equations \n",
    "In the situation under consideration, we know that $I_2 = 0 = I_R$, $\\mu_1 = 1$, and $\\mu_L = 0$. The Buttiker equations can be written in matrix form as shown below: <br>\n",
    "$$\n",
    "\\begin{bmatrix}\n",
    "I_1 \\\\\n",
    "0 \\\\\n",
    "0\n",
    "\\end{bmatrix} =\n",
    "\\begin{bmatrix}\n",
    "T_{1L} + T_{12} + T_{1R} & -T_{12} & T_{1R}\\\\\n",
    "-T_{21} & T_{21} + T_{21}+T_{2L}+T_{2R} & -T_{2R}\\\\\n",
    "-T_{R1} & -T_{R2} & T_{R1} + T_{RL} + T_{R2} \n",
    "\\end{bmatrix}\n",
    "\\begin{bmatrix}\n",
    "1 \\\\\n",
    "\\mu_2 \\\\\n",
    "\\mu_R\n",
    "\\end{bmatrix}\n",
    "$$\n",
    "The second and third equations can be re-written as:<br>\n",
    "$$\n",
    "\\begin{bmatrix}\n",
    "T_{21} \\\\\n",
    "T_{R1}\n",
    "\\end{bmatrix}\n",
    "= \n",
    "\\begin{bmatrix}\n",
    "T_{21}+T_{2L}+T_{2R} & -T_{2R}\\\\\n",
    "-T_{R2} & T_{R1} + T_{RL} + T_{R2}\n",
    "\\end{bmatrix}\n",
    "\\begin{bmatrix}\n",
    "\\mu_2 \\\\\n",
    "\\mu_R\n",
    "\\end{bmatrix}\n",
    "$$\n",
    "Therefore, <br>\n",
    "$$\n",
    "\\begin{bmatrix}\n",
    "\\mu_2 \\\\\n",
    "\\mu_R\n",
    "\\end{bmatrix} = \n",
    "\\begin{bmatrix}\n",
    "T_{21}+T_{2L}+T_{2R} & -T_{2R}\\\\\n",
    "-T_{R2} & T_{R1} + T_{RL} + T_{R2}\n",
    "\\end{bmatrix}^{-1}\n",
    "\\begin{bmatrix}\n",
    "T_{21} \\\\\n",
    "T_{R1}\n",
    "\\end{bmatrix}\n",
    "$$"
   ]
  },
  {
   "cell_type": "code",
   "execution_count": 204,
   "id": "90635b39",
   "metadata": {},
   "outputs": [],
   "source": [
    "#magnetic contacts\n",
    "#Polarization vectors\n",
    "P_1 = 0.7*np.array([0,0,1])\n",
    "\n",
    "mu_2 = []\n",
    "mu_R = []\n",
    "\n",
    "theta_space = np.linspace(0,4,40)\n",
    "\n",
    "for theta in theta_space:\n",
    "    #Taking P_2 in the x-z plane\n",
    "    P_2 = np.array([np.sin(theta*np.pi), 0, np.cos(np.pi*theta)])\n",
    "    for i in range(N_prob):\n",
    "        H_0[i][i] = 2*t_0\n",
    "        if(i<49):\n",
    "            H_1[i][i+1] = -t_0\n",
    "            H_2[i+1][i] = -t_0\n",
    "    H = np.kron(H_0, np.eye(2)) + np.kron(H_1, np.eye(2)) + np.kron(H_2, np.eye(2))\n",
    "    sig1 = np.array([[0,1],[1,0]], dtype = np.complex_)\n",
    "    sig2 = np.array([[0,complex(0,-1)],[complex(0,1),0]], dtype = np.complex_)\n",
    "    sig3 = np.array([[1,0],[0,-1]], dtype=np.complex_)\n",
    "    I_2 = np.array([[1,0],[0,1]], dtype = np.complex_)\n",
    "   \n",
    "    s_1 = -t_0*np.exp(complex(0,-1)*ka)*(I_2 + P_1[0]*sig1 + P_1[1]*sig2 + P_1[2]*sig3)\n",
    "    s_2 = -t_0*np.exp(complex(0,-1)*ka)*(I_2 + P_2[0]*sig1 + P_2[1]*sig2 + P_2[2]*sig3)  \n",
    "    \n",
    "    Sigma_1 = np.kron(L_1, s_1)\n",
    "    Sigma_2 = np.kron(L_2, s_2)\n",
    "    Gamma_1 = complex(0,1)*(Sigma_1 - Sigma_1.conjugate().transpose())\n",
    "    Gamma_2 = complex(0,1)*(Sigma_2 - Sigma_2.conjugate().transpose())\n",
    "    \n",
    "    G_inv = EI - H - Sigma_1 - Sigma_2 - Sigma_L - Sigma_R\n",
    "    G=np.linalg.inv(G_inv)\n",
    "    \n",
    "    #Transmissions\n",
    "    T_1L = np.trace(np.dot(np.dot(np.dot(Gamma_1, G),Gamma_L), G.conjugate().transpose()))\n",
    "    T_12 = np.trace(np.dot(np.dot(np.dot(Gamma_1, G),Gamma_2), G.conjugate().transpose()))\n",
    "    T_1R = np.trace(np.dot(np.dot(np.dot(Gamma_1, G),Gamma_R), G.conjugate().transpose()))\n",
    "    T_L1 = np.trace(np.dot(np.dot(np.dot(Gamma_L, G),Gamma_1), G.conjugate().transpose()))\n",
    "    T_L2 = np.trace(np.dot(np.dot(np.dot(Gamma_L, G),Gamma_2), G.conjugate().transpose()))\n",
    "    T_LR = np.trace(np.dot(np.dot(np.dot(Gamma_L, G),Gamma_R), G.conjugate().transpose()))\n",
    "    T_21 = np.trace(np.dot(np.dot(np.dot(Gamma_2, G),Gamma_1), G.conjugate().transpose()))\n",
    "    T_2L = np.trace(np.dot(np.dot(np.dot(Gamma_2, G),Gamma_L), G.conjugate().transpose()))\n",
    "    T_2R = np.trace(np.dot(np.dot(np.dot(Gamma_2, G),Gamma_R), G.conjugate().transpose()))\n",
    "    T_R1 = np.trace(np.dot(np.dot(np.dot(Gamma_R, G),Gamma_1), G.conjugate().transpose()))\n",
    "    T_RL = np.trace(np.dot(np.dot(np.dot(Gamma_R, G),Gamma_L), G.conjugate().transpose()))\n",
    "    T_R2 = np.trace(np.dot(np.dot(np.dot(Gamma_R, G),Gamma_2), G.conjugate().transpose()))\n",
    "    \n",
    "    #Solutions of Buttiker equations\n",
    "    T_mat = np.array([[T_21+T_2L+T_2R, -T_2R], [-T_R2, T_R1+T_RL+T_R2]])\n",
    "    T_vec = np.array([[T_21],[T_R1]])\n",
    "    mu_vec = np.dot(np.linalg.inv(T_mat), T_vec)\n",
    "    mu_2.append(mu_vec[0][0])\n",
    "    mu_R.append(mu_vec[1][0]) "
   ]
  },
  {
   "cell_type": "code",
   "execution_count": 205,
   "id": "a4b4b144",
   "metadata": {},
   "outputs": [
    {
     "data": {
      "text/plain": [
       "[<matplotlib.lines.Line2D at 0x1cd372cbbb0>]"
      ]
     },
     "execution_count": 205,
     "metadata": {},
     "output_type": "execute_result"
    },
    {
     "data": {
      "image/png": "[encoded data removed]",
      "text/plain": [
       "<Figure size 640x480 with 1 Axes>"
      ]
     },
     "metadata": {},
     "output_type": "display_data"
    }
   ],
   "source": [
    "plt.xlabel(\"theta/pi\")\n",
    "plt.ylabel(\"mu_2\")\n",
    "plt.plot((1/np.pi)*theta_space, mu_2)"
   ]
  }
 ],
 "metadata": {
  "kernelspec": {
   "display_name": "Python 3 (ipykernel)",
   "language": "python",
   "name": "python3"
  },
  "language_info": {
   "codemirror_mode": {
    "name": "ipython",
    "version": 3
   },
   "file_extension": ".py",
   "mimetype": "text/x-python",
   "name": "python",
   "nbconvert_exporter": "python",
   "pygments_lexer": "ipython3",
   "version": "3.9.13"
  }
 },
 "nbformat": 4,
 "nbformat_minor": 5
}
